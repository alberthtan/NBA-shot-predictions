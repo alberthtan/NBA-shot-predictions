{
  "nbformat": 4,
  "nbformat_minor": 0,
  "metadata": {
    "colab": {
      "name": "Final_Albert_Tan.ipynb",
      "provenance": [],
      "collapsed_sections": [],
      "toc_visible": true,
      "include_colab_link": true
    },
    "kernelspec": {
      "display_name": "Python 3",
      "name": "python3"
    },
    "language_info": {
      "name": "python"
    }
  },
  "cells": [
    {
      "cell_type": "markdown",
      "metadata": {
        "id": "view-in-github",
        "colab_type": "text"
      },
      "source": [
        "<a href=\"https://colab.research.google.com/github/alberthtan/NBA-shot-predictions/blob/main/Final_Albert_Tan.ipynb\" target=\"_parent\"><img src=\"https://colab.research.google.com/assets/colab-badge.svg\" alt=\"Open In Colab\"/></a>"
      ]
    },
    {
      "cell_type": "markdown",
      "metadata": {
        "id": "HLZ91mmvMQyl"
      },
      "source": [
        "## **Machine Learning Final Project DUE: Friday May 7th 11:59pm**\n",
        "\n",
        "**Note: Please read all the instructions carefully before starting the project.**\n",
        "\n",
        "For your final project you will build an ML model to analyze a dataset of your choice. You are welcome to keep working on the data in your EDA project if your data is large enough (at least 1000 rows for simple models and at least 10,000 for more complex models) or you can choose from the datasets/project suggestions below.\n",
        "\n",
        "In this project make sure that you:\n",
        "- Have a large enough dataset\n",
        "- Split your data in training and testing\n",
        "- Explore your data to inform which type of model to choose (no need if you are using your EDA dataset)\n",
        "- Try different models on your training dataset - then select the most promising model\n",
        "- Use cross validation to fine tune the model’s parameters such as alpha in lasso\n",
        "- Simplify your model using regularization, prunnning, drop-out, etc. to avoid overfitting\n",
        "- Communicate your model’s performance and make sure you compare it to a benchmark when appropriate\n",
        "- Plot interesting graphs and results\n",
        "- Write and publish your article to medium\n",
        "- Commit your code to your GitHub\n",
        "\n",
        "Please ensure you handle all the preprocessing before the modeling.\n",
        "\n",
        "Suggestions for project:\n",
        "You can take a look at the resources given below for choosing a dataset for your project. \n",
        "\n",
        "- Traffic sign detection - https://benchmark.ini.rub.de/gtsdb_dataset.html\n",
        "- Cat and dog classifier - https://www.kaggle.com/c/dogs-vs-cats/data\n",
        "- Other datasets from Kaggle - https://www.kaggle.com/data/41592"
      ]
    },
    {
      "cell_type": "markdown",
      "metadata": {
        "id": "mirWm3dBPv90"
      },
      "source": [
        "## **Grading Criteria**\n",
        "\n",
        "- Show clear exploration of the data to justify model choice\n",
        "- Train mutliple models and clearly articulate why you chose your final model\n",
        "- Show your performance on test dataset\n",
        "- Clear and concise write-up with clear well-documented figures\n",
        "- Commit your code to GitHub"
      ]
    },
    {
      "cell_type": "markdown",
      "metadata": {
        "id": "4ZRNqxFcP4wx"
      },
      "source": [
        "## **Submission Details**\n",
        "\n",
        "This is an individual assignment. You may not work in groups. The assignment is due on Friday (05/07/2021)\n",
        "- To submit your assignment, download your notebook and the dataset, zip the dataset and notebook, and submit the zipped file on blackboard.\n",
        "- Make sure the notebook is named in the format - Final_LastName_FirstName. If you are submitting a zipped file, please name the file as well in the same format.\n",
        "- Please include the link to access your blog and your github repo in your notebook.\n",
        "- Also include the link to your notebook, github repo and the blog in the submission on blackboard. Please ensure the TAs have the required access to your notebooks and the github repo.\n",
        "\n",
        "**Note - If the dataset is too large to be zipped and submitted on blackboard, only submit your notebook, add your dataset to your google drive and share a link to the file in your notebook.**"
      ]
    },
    {
      "cell_type": "code",
      "metadata": {
        "id": "_8zp7LUTbEZ6"
      },
      "source": [
        "import matplotlib.pyplot as plt\n",
        "import numpy as np\n",
        "import pandas as pd\n",
        "import seaborn as sns\n",
        "\n",
        "from sklearn import tree\n",
        "from sklearn.model_selection import train_test_split\n",
        "from sklearn.dummy import DummyClassifier\n",
        "from sklearn.linear_model import LogisticRegression\n",
        "from sklearn.tree import DecisionTreeClassifier\n",
        "from sklearn.ensemble import BaggingClassifier, RandomForestClassifier, VotingClassifier, AdaBoostClassifier\n",
        "from sklearn import metrics\n",
        "from sklearn.svm import SVC\n",
        "\n",
        "from sklearn.preprocessing import MinMaxScaler"
      ],
      "execution_count": null,
      "outputs": []
    },
    {
      "cell_type": "code",
      "metadata": {
        "colab": {
          "base_uri": "https://localhost:8080/"
        },
        "id": "ZzWRBLl6MImY",
        "outputId": "e240af8a-6aae-49c8-97be-b13968be2896"
      },
      "source": [
        "# ACQUIRE DATA\n",
        "url = 'https://raw.githubusercontent.com/alberthtan/NBA-shot-predictions/main/shot_logs.csv'\n",
        "df = pd.read_csv(url)\n",
        "pd.set_option('display.max_columns', None)\n",
        "print(df)\n"
      ],
      "execution_count": null,
      "outputs": [
        {
          "output_type": "stream",
          "text": [
            "         GAME_ID                   MATCHUP LOCATION  W  FINAL_MARGIN  \\\n",
            "0       21400899  MAR 04, 2015 - CHA @ BKN        A  W            24   \n",
            "1       21400899  MAR 04, 2015 - CHA @ BKN        A  W            24   \n",
            "2       21400899  MAR 04, 2015 - CHA @ BKN        A  W            24   \n",
            "3       21400899  MAR 04, 2015 - CHA @ BKN        A  W            24   \n",
            "4       21400899  MAR 04, 2015 - CHA @ BKN        A  W            24   \n",
            "...          ...                       ...      ... ..           ...   \n",
            "128064  21400006  OCT 29, 2014 - BKN @ BOS        A  L           -16   \n",
            "128065  21400006  OCT 29, 2014 - BKN @ BOS        A  L           -16   \n",
            "128066  21400006  OCT 29, 2014 - BKN @ BOS        A  L           -16   \n",
            "128067  21400006  OCT 29, 2014 - BKN @ BOS        A  L           -16   \n",
            "128068  21400006  OCT 29, 2014 - BKN @ BOS        A  L           -16   \n",
            "\n",
            "        SHOT_NUMBER  PERIOD GAME_CLOCK  SHOT_CLOCK  DRIBBLES  TOUCH_TIME  \\\n",
            "0                 1       1       1:09        10.8         2         1.9   \n",
            "1                 2       1       0:14         3.4         0         0.8   \n",
            "2                 3       1       0:00         NaN         3         2.7   \n",
            "3                 4       2      11:47        10.3         2         1.9   \n",
            "4                 5       2      10:34        10.9         2         2.7   \n",
            "...             ...     ...        ...         ...       ...         ...   \n",
            "128064            5       3       1:52        18.3         5         6.2   \n",
            "128065            6       4      11:28        19.8         4         5.2   \n",
            "128066            7       4      11:10        23.0         2         4.2   \n",
            "128067            8       4       2:37         9.1         4         4.5   \n",
            "128068            9       4       0:12         NaN         5         4.7   \n",
            "\n",
            "        SHOT_DIST  PTS_TYPE SHOT_RESULT   CLOSEST_DEFENDER  \\\n",
            "0             7.7         2        made     Anderson, Alan   \n",
            "1            28.2         3      missed  Bogdanovic, Bojan   \n",
            "2            10.1         2      missed  Bogdanovic, Bojan   \n",
            "3            17.2         2      missed      Brown, Markel   \n",
            "4             3.7         2      missed    Young, Thaddeus   \n",
            "...           ...       ...         ...                ...   \n",
            "128064        8.7         2      missed      Smart, Marcus   \n",
            "128065        0.6         2        made       Turner, Evan   \n",
            "128066       16.9         2        made   Thornton, Marcus   \n",
            "128067       18.3         2      missed     Bradley, Avery   \n",
            "128068        5.1         2        made     Bradley, Avery   \n",
            "\n",
            "        CLOSEST_DEFENDER_PLAYER_ID  CLOSE_DEF_DIST  FGM  PTS    player_name  \\\n",
            "0                           101187             1.3    1    2  brian roberts   \n",
            "1                           202711             6.1    0    0  brian roberts   \n",
            "2                           202711             0.9    0    0  brian roberts   \n",
            "3                           203900             3.4    0    0  brian roberts   \n",
            "4                           201152             1.1    0    0  brian roberts   \n",
            "...                            ...             ...  ...  ...            ...   \n",
            "128064                      203935             0.8    0    0   jarrett jack   \n",
            "128065                      202323             0.6    1    2   jarrett jack   \n",
            "128066                      201977             4.2    1    2   jarrett jack   \n",
            "128067                      202340             3.0    0    0   jarrett jack   \n",
            "128068                      202340             2.3    1    2   jarrett jack   \n",
            "\n",
            "        player_id  \n",
            "0          203148  \n",
            "1          203148  \n",
            "2          203148  \n",
            "3          203148  \n",
            "4          203148  \n",
            "...           ...  \n",
            "128064     101127  \n",
            "128065     101127  \n",
            "128066     101127  \n",
            "128067     101127  \n",
            "128068     101127  \n",
            "\n",
            "[128069 rows x 21 columns]\n"
          ],
          "name": "stdout"
        }
      ]
    },
    {
      "cell_type": "markdown",
      "metadata": {
        "id": "dQe0hYufbVhQ"
      },
      "source": [
        "Data Preprocessing"
      ]
    },
    {
      "cell_type": "code",
      "metadata": {
        "colab": {
          "base_uri": "https://localhost:8080/"
        },
        "id": "Q9RLYZR-bU-a",
        "outputId": "51d27d36-4df3-451b-abde-addc397e126d"
      },
      "source": [
        "# Isolate variables of interest\n",
        "df = df[['SHOT_CLOCK', 'DRIBBLES', 'TOUCH_TIME', 'SHOT_DIST', 'CLOSE_DEF_DIST', 'FGM']]\n",
        "\n",
        "# Drop rows with missing values\n",
        "df = df.dropna()\n",
        "print(df)\n",
        "\n",
        "# Normalize data\n",
        "scaler = MinMaxScaler(feature_range=(0, 1))\n",
        "normalizedData = scaler.fit_transform(df)\n",
        "cols = ['SHOT_CLOCK', 'DRIBBLES', 'TOUCH_TIME', 'SHOT_DIST', 'CLOSE_DEF_DIST', 'FGM']\n",
        "normalizedData = pd.DataFrame(normalizedData, columns=cols)\n",
        "print(normalizedData.head())"
      ],
      "execution_count": null,
      "outputs": [
        {
          "output_type": "stream",
          "text": [
            "        SHOT_CLOCK  DRIBBLES  TOUCH_TIME  SHOT_DIST  CLOSE_DEF_DIST  FGM\n",
            "0             10.8         2         1.9        7.7             1.3    1\n",
            "1              3.4         0         0.8       28.2             6.1    0\n",
            "3             10.3         2         1.9       17.2             3.4    0\n",
            "4             10.9         2         2.7        3.7             1.1    0\n",
            "5              9.1         2         4.4       18.4             2.6    0\n",
            "...            ...       ...         ...        ...             ...  ...\n",
            "128063        15.3         2         1.6        8.9             5.7    1\n",
            "128064        18.3         5         6.2        8.7             0.8    0\n",
            "128065        19.8         4         5.2        0.6             0.6    1\n",
            "128066        23.0         2         4.2       16.9             4.2    1\n",
            "128067         9.1         4         4.5       18.3             3.0    0\n",
            "\n",
            "[122502 rows x 6 columns]\n",
            "   SHOT_CLOCK  DRIBBLES  TOUCH_TIME  SHOT_DIST  CLOSE_DEF_DIST  FGM\n",
            "0    0.450000    0.0625    0.816587   0.177011        0.024436  1.0\n",
            "1    0.141667    0.0000    0.807815   0.648276        0.114662  0.0\n",
            "2    0.429167    0.0625    0.816587   0.395402        0.063910  0.0\n",
            "3    0.454167    0.0625    0.822967   0.085057        0.020677  0.0\n",
            "4    0.379167    0.0625    0.836523   0.422989        0.048872  0.0\n"
          ],
          "name": "stdout"
        }
      ]
    },
    {
      "cell_type": "code",
      "metadata": {
        "colab": {
          "base_uri": "https://localhost:8080/",
          "height": 279
        },
        "id": "3veRZRUHrCqd",
        "outputId": "6d5baa1c-67e2-483f-ce0b-00aa182fc765"
      },
      "source": [
        "sns.countplot(x='FGM', data=df)\n",
        "plt.show()"
      ],
      "execution_count": null,
      "outputs": [
        {
          "output_type": "display_data",
          "data": {
            "image/png": "[encoded data removed]",
            "text/plain": [
              "<Figure size 432x288 with 1 Axes>"
            ]
          },
          "metadata": {
            "tags": [],
            "needs_background": "light"
          }
        }
      ]
    },
    {
      "cell_type": "code",
      "metadata": {
        "id": "1--jWYx1eBn0"
      },
      "source": [
        "# Split into training and testing\n",
        "X = df.drop(labels='FGM', axis=1)\n",
        "y = df['FGM']\n",
        "\n",
        "X_train, X_test, y_train, y_test = train_test_split(X, y, test_size=0.3, stratify=y)"
      ],
      "execution_count": null,
      "outputs": []
    },
    {
      "cell_type": "code",
      "metadata": {
        "colab": {
          "base_uri": "https://localhost:8080/"
        },
        "id": "2H52DRdPflvy",
        "outputId": "1a831315-8a56-44e1-ec3c-c9f32f47873d"
      },
      "source": [
        "# Create dummy model\n",
        "dummy = DummyClassifier(strategy='most_frequent')\n",
        "dummy.fit(X_train, y_train)\n",
        "baseline_acc = dummy.score(X_test, y_test)\n",
        "print('Baseline accuracy:', baseline_acc)"
      ],
      "execution_count": null,
      "outputs": [
        {
          "output_type": "stream",
          "text": [
            "Baseline accuracy: 0.5438491469619874\n"
          ],
          "name": "stdout"
        }
      ]
    },
    {
      "cell_type": "code",
      "metadata": {
        "colab": {
          "base_uri": "https://localhost:8080/"
        },
        "id": "5u3zKS7Qjhkb",
        "outputId": "f135c5e1-a13e-457c-ac34-802daa981e61"
      },
      "source": [
        "# Explore different models\n",
        "\n",
        "# 1. Logistic regression\n",
        "log_model = LogisticRegression()\n",
        "log_model.fit(X_train, y_train)\n",
        "y_pred = log_model.predict(X_test)\n",
        "log_accuracy = metrics.accuracy_score(y_pred, y_test)\n",
        "print(log_accuracy)\n"
      ],
      "execution_count": null,
      "outputs": [
        {
          "output_type": "stream",
          "text": [
            "0.6083099779597834\n"
          ],
          "name": "stdout"
        }
      ]
    },
    {
      "cell_type": "code",
      "metadata": {
        "colab": {
          "base_uri": "https://localhost:8080/"
        },
        "id": "vsbWWiKbb1AE",
        "outputId": "117a210a-0b6b-4a67-b1df-98a7f9c67857"
      },
      "source": [
        "# 2. Decision Trees\n",
        "dt = DecisionTreeClassifier(criterion='gini', max_depth=10, min_samples_leaf=3)\n",
        "dt.fit(X_train, y_train)\n",
        "y_pred = dt.predict(X_test)\n",
        "dt_accuracy = metrics.accuracy_score(y_pred, y_test)\n",
        "print(dt_accuracy)\n",
        "\n",
        "ada_boost = AdaBoostClassifier(dt, n_estimators=20, learning_rate=0.001)\n",
        "ada_boost.fit(X_train, y_train)\n",
        "ada_pred = ada_boost.predict(X_test)\n",
        "ada_accuracy = metrics.accuracy_score(y_test, ada_pred)\n",
        "print(ada_accuracy)\n",
        "\n",
        "print('Feature Importance:', dt.feature_importances_)\n",
        "imp=pd.DataFrame(zip(X_train.columns, dt.feature_importances_))\n",
        "print(imp.nlargest(3, 1))"
      ],
      "execution_count": null,
      "outputs": [
        {
          "output_type": "stream",
          "text": [
            "0.6103235286114663\n",
            "0.6114663546570162\n",
            "Feature Importance: [0.11447837 0.0330313  0.12936791 0.49468512 0.22843729]\n",
            "                0         1\n",
            "3       SHOT_DIST  0.494685\n",
            "4  CLOSE_DEF_DIST  0.228437\n",
            "2      TOUCH_TIME  0.129368\n"
          ],
          "name": "stdout"
        }
      ]
    },
    {
      "cell_type": "code",
      "metadata": {
        "colab": {
          "base_uri": "https://localhost:8080/"
        },
        "id": "dh3NmUoVb6uH",
        "outputId": "3b7bfed5-f142-48ef-f5aa-5b8b0f262d5e"
      },
      "source": [
        "# 3. Ensemble Methods (Bagging and Random Forest)\n",
        "model_bagging = BaggingClassifier(n_estimators=20)\n",
        "model_bagging.fit(X_train, y_train)\n",
        "pred_bagging = model_bagging.predict(X_test)\n",
        "acc_bagging = metrics.accuracy_score(y_test, pred_bagging)\n",
        "print(acc_bagging)\n",
        "\n",
        "\n",
        "model_rf = RandomForestClassifier(n_estimators=50)\n",
        "model_rf.fit(X_train, y_train)\n",
        "pred_rf = model_rf.predict(X_test)\n",
        "acc_rf = metrics.accuracy_score(y_test, pred_rf)\n",
        "print(acc_rf)\n"
      ],
      "execution_count": null,
      "outputs": [
        {
          "output_type": "stream",
          "text": [
            "0.5796576963892139\n",
            "0.5864874425185709\n"
          ],
          "name": "stdout"
        }
      ]
    },
    {
      "cell_type": "code",
      "metadata": {
        "colab": {
          "base_uri": "https://localhost:8080/"
        },
        "id": "S4pFWvz0cB9R",
        "outputId": "ad7d06ba-e10c-46aa-ed01-3164e8e291f7"
      },
      "source": [
        "# # 4. Voting Classifier\n",
        "\n",
        "clf = VotingClassifier(estimators = [('dt', dt), ('rf',model_rf), ('log', log_model), ('bag', model_bagging)], voting='soft', weights=[3, 1, 20, 1]) \n",
        "clf.fit(X_train, y_train)\n",
        "\n",
        "clf_pred = clf.predict(X_test)\n",
        "acc_clf = metrics.accuracy_score(y_test, clf_pred)\n",
        "print(acc_clf)"
      ],
      "execution_count": null,
      "outputs": [
        {
          "output_type": "stream",
          "text": [
            "0.6121466082555577\n"
          ],
          "name": "stdout"
        }
      ]
    },
    {
      "cell_type": "code",
      "metadata": {
        "id": "pvbgpzIDoh5O",
        "colab": {
          "base_uri": "https://localhost:8080/"
        },
        "outputId": "6eb5c005-7301-48d9-c400-75541a12a82d"
      },
      "source": [
        "# Fine tune hyperparameters (alpha) and simplify model (regularization, pruning, drop-out)\n",
        "\n",
        "# The Decision tree/ADA boost had close to the best results, so we will try and manually find the best MAX_DEPTH and MIN_SAMPLES_LEAF (pruning)\n",
        "\n",
        "max_accuracy = 0.0\n",
        "max_depth = 0\n",
        "min_samples_leaf = 0\n",
        "for i in range(1, 10):\n",
        "  for j in range(1, 40):\n",
        "    dt = DecisionTreeClassifier(criterion='gini', max_depth=i, min_samples_leaf=j)\n",
        "    dt.fit(X_train, y_train)\n",
        "    y_pred = dt.predict(X_test)\n",
        "    accuracy = metrics.accuracy_score(y_pred, y_test)\n",
        "    if accuracy > max_accuracy:\n",
        "      max_accuracy = accuracy\n",
        "      max_depth = i\n",
        "      min_samples_leaf = j\n",
        "      print(max_accuracy, i, j)"
      ],
      "execution_count": null,
      "outputs": [
        {
          "output_type": "stream",
          "text": [
            "0.6072487823460586 1 1\n",
            "0.6099153764523414 3 1\n",
            "0.6154662458164404 4 1\n",
            "0.61742537618024 6 1\n",
            "0.6174525863241817 6 2\n",
            "0.6174797964681233 6 3\n",
            "0.6175070066120649 6 14\n",
            "0.6175614268999483 6 15\n",
            "0.617670267475715 6 17\n"
          ],
          "name": "stdout"
        }
      ]
    },
    {
      "cell_type": "code",
      "metadata": {
        "colab": {
          "base_uri": "https://localhost:8080/"
        },
        "id": "GEPIC8e9vN3M",
        "outputId": "bc32efb9-59ca-444d-de0b-f5ce6e76a122"
      },
      "source": [
        "# Fine tune alpha for ADA boost\n",
        "my_dt = DecisionTreeClassifier(criterion='gini', max_depth =max_depth, min_samples_leaf=min_samples_leaf)\n",
        "\n",
        "max_accuracy = 0\n",
        "my_ada_boost = AdaBoostClassifier(my_dt)\n",
        "\n",
        "for i in range (1, 50, 2):\n",
        "  ada_boost = AdaBoostClassifier(my_dt, n_estimators=10, learning_rate=i/100)\n",
        "  ada_boost.fit(X_train, y_train)\n",
        "  ada_pred = ada_boost.predict(X_test)  \n",
        "  accuracy = metrics.accuracy_score(y_test, ada_pred)\n",
        "  if accuracy > max_accuracy:\n",
        "    max_accuracy = accuracy\n",
        "    my_ada_boost = ada_boost\n",
        "    print(accuracy, i)"
      ],
      "execution_count": null,
      "outputs": [
        {
          "output_type": "stream",
          "text": [
            "0.6178607384833066 1\n",
            "0.6179423689151315 3\n",
            "0.6182961007863732 7\n",
            "0.6191668253925063 11\n",
            "0.6193300862561563 19\n"
          ],
          "name": "stdout"
        }
      ]
    },
    {
      "cell_type": "code",
      "metadata": {
        "colab": {
          "base_uri": "https://localhost:8080/",
          "height": 279
        },
        "id": "0UU0_XkWFdV4",
        "outputId": "3e82be12-07b0-4cda-f1fa-84ae72b93e91"
      },
      "source": [
        "metrics.plot_confusion_matrix(my_ada_boost, X_test, y_test)\n",
        "plt.show()"
      ],
      "execution_count": null,
      "outputs": [
        {
          "output_type": "display_data",
          "data": {
            "image/png": "[encoded data removed]",
            "text/plain": [
              "<Figure size 432x288 with 2 Axes>"
            ]
          },
          "metadata": {
            "tags": [],
            "needs_background": "light"
          }
        }
      ]
    },
    {
      "cell_type": "code",
      "metadata": {
        "colab": {
          "base_uri": "https://localhost:8080/",
          "height": 248
        },
        "id": "jA5ax08UzTyj",
        "outputId": "2e79466b-4860-4ec1-d340-92846911e9e5"
      },
      "source": [
        "my_dt.fit(X_train, y_train)\n",
        "my_tree = tree.plot_tree(my_dt, filled=True)\n",
        "plt.savefig('my_tree.png')\n",
        "plt.show()"
      ],
      "execution_count": null,
      "outputs": [
        {
          "output_type": "display_data",
          "data": {
            "image/png": "[encoded data removed]",
            "text/plain": [
              "<Figure size 432x288 with 1 Axes>"
            ]
          },
          "metadata": {
            "tags": [],
            "needs_background": "light"
          }
        }
      ]
    },
    {
      "cell_type": "code",
      "metadata": {
        "colab": {
          "base_uri": "https://localhost:8080/",
          "height": 312
        },
        "id": "Cd7UgZg3G3Z1",
        "outputId": "c63f37cc-211a-44cf-8c59-4871158340d4"
      },
      "source": [
        "model = ['Dummy', 'Log', 'DT', 'ADA', 'Bag', 'RF', 'Voting', 'Optimal']\n",
        "\n",
        "accuracy = [baseline_acc, log_accuracy, dt_accuracy, ada_accuracy, acc_bagging, acc_rf, acc_clf, max_accuracy]\n",
        "\n",
        "plt.bar(model, accuracy, color='b')\n",
        "plt.ylim(0.52, 0.63)\n",
        "\n",
        "plt.xlabel('ML Model')\n",
        "plt.ylabel('Accuracy')\n",
        "\n",
        "plt.title('Accuracy of Various ML Models')"
      ],
      "execution_count": 26,
      "outputs": [
        {
          "output_type": "execute_result",
          "data": {
            "text/plain": [
              "Text(0.5, 1.0, 'Accuracy of Various ML Models')"
            ]
          },
          "metadata": {
            "tags": []
          },
          "execution_count": 26
        },
        {
          "output_type": "display_data",
          "data": {
            "image/png": "[encoded data removed]",
            "text/plain": [
              "<Figure size 432x288 with 1 Axes>"
            ]
          },
          "metadata": {
            "tags": [],
            "needs_background": "light"
          }
        }
      ]
    }
  ]
}